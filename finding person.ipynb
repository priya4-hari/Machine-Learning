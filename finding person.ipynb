{
  "nbformat": 4,
  "nbformat_minor": 0,
  "metadata": {
    "colab": {
      "name": "EXPERIMENT_2.ipynb",
      "provenance": [],
      "collapsed_sections": [],
      "toc_visible": true,
      "authorship_tag": "ABX9TyPmPP3BMtrLTWedmslduq5b",
      "include_colab_link": true
    },
    "kernelspec": {
      "name": "python3",
      "display_name": "Python 3"
    }
  },
  "cells": [
    {
      "cell_type": "markdown",
      "metadata": {
        "id": "view-in-github",
        "colab_type": "text"
      },
      "source": [
        "<a href=\"https://colab.research.google.com/github/priya4-hari/machine-learning/blob/main/finding%20person.ipynb\" target=\"_parent\"><img src=\"https://colab.research.google.com/assets/colab-badge.svg\" alt=\"Open In Colab\"/></a>"
      ]
    },
    {
      "cell_type": "markdown",
      "metadata": {
        "id": "S1UStX8w2QBy"
      },
      "source": [
        "###            **GIVEN THE WEIGHT (IN LBS) AND FOOT SIZE (IN INCHES),PREDICT WHETHER THE PERSON IS A MALE OR FEMALE USING NAIVE BAYES ALGORITHM** "
      ]
    },
    {
      "cell_type": "code",
      "metadata": {
        "id": "27-qHUVoHpND"
      },
      "source": [
        "import pandas as pd\r\n",
        "import numpy as np\r\n",
        "from sklearn.model_selection import train_test_split\r\n",
        "from sklearn.metrics import accuracy_score\r\n",
        "from sklearn.naive_bayes import GaussianNB"
      ],
      "execution_count": null,
      "outputs": []
    },
    {
      "cell_type": "code",
      "metadata": {
        "colab": {
          "base_uri": "https://localhost:8080/",
          "height": 948
        },
        "id": "LYmUz-J2F-SS",
        "outputId": "fd66ae61-f6df-4710-dab3-7b69dcb1cb35"
      },
      "source": [
        "df = pd.read_csv(\"dataset (1).csv\")\r\n",
        "df.drop('Height', axis='columns', inplace=True) #Drop Day column as it is not required to build the model\r\n",
        "df"
      ],
      "execution_count": null,
      "outputs": [
        {
          "output_type": "execute_result",
          "data": {
            "text/html": [
              "<div>\n",
              "<style scoped>\n",
              "    .dataframe tbody tr th:only-of-type {\n",
              "        vertical-align: middle;\n",
              "    }\n",
              "\n",
              "    .dataframe tbody tr th {\n",
              "        vertical-align: top;\n",
              "    }\n",
              "\n",
              "    .dataframe thead th {\n",
              "        text-align: right;\n",
              "    }\n",
              "</style>\n",
              "<table border=\"1\" class=\"dataframe\">\n",
              "  <thead>\n",
              "    <tr style=\"text-align: right;\">\n",
              "      <th></th>\n",
              "      <th>Gender</th>\n",
              "      <th>Weight</th>\n",
              "      <th>Shoe_size</th>\n",
              "    </tr>\n",
              "  </thead>\n",
              "  <tbody>\n",
              "    <tr>\n",
              "      <th>0</th>\n",
              "      <td>Male</td>\n",
              "      <td>176.36960</td>\n",
              "      <td>17.460317</td>\n",
              "    </tr>\n",
              "    <tr>\n",
              "      <th>1</th>\n",
              "      <td>Male</td>\n",
              "      <td>154.32340</td>\n",
              "      <td>17.063492</td>\n",
              "    </tr>\n",
              "    <tr>\n",
              "      <th>2</th>\n",
              "      <td>Female</td>\n",
              "      <td>132.27720</td>\n",
              "      <td>15.079365</td>\n",
              "    </tr>\n",
              "    <tr>\n",
              "      <th>3</th>\n",
              "      <td>Female</td>\n",
              "      <td>119.04948</td>\n",
              "      <td>14.682540</td>\n",
              "    </tr>\n",
              "    <tr>\n",
              "      <th>4</th>\n",
              "      <td>Male</td>\n",
              "      <td>143.30030</td>\n",
              "      <td>15.873016</td>\n",
              "    </tr>\n",
              "    <tr>\n",
              "      <th>5</th>\n",
              "      <td>Male</td>\n",
              "      <td>198.41580</td>\n",
              "      <td>18.650794</td>\n",
              "    </tr>\n",
              "    <tr>\n",
              "      <th>6</th>\n",
              "      <td>Female</td>\n",
              "      <td>141.09568</td>\n",
              "      <td>15.476190</td>\n",
              "    </tr>\n",
              "    <tr>\n",
              "      <th>7</th>\n",
              "      <td>Female</td>\n",
              "      <td>154.32340</td>\n",
              "      <td>15.873016</td>\n",
              "    </tr>\n",
              "    <tr>\n",
              "      <th>8</th>\n",
              "      <td>Female</td>\n",
              "      <td>121.25410</td>\n",
              "      <td>14.682540</td>\n",
              "    </tr>\n",
              "    <tr>\n",
              "      <th>9</th>\n",
              "      <td>Male</td>\n",
              "      <td>165.34650</td>\n",
              "      <td>16.666667</td>\n",
              "    </tr>\n",
              "    <tr>\n",
              "      <th>10</th>\n",
              "      <td>Male</td>\n",
              "      <td>187.39270</td>\n",
              "      <td>17.063492</td>\n",
              "    </tr>\n",
              "    <tr>\n",
              "      <th>11</th>\n",
              "      <td>Male</td>\n",
              "      <td>154.32340</td>\n",
              "      <td>17.857143</td>\n",
              "    </tr>\n",
              "    <tr>\n",
              "      <th>12</th>\n",
              "      <td>Female</td>\n",
              "      <td>110.23100</td>\n",
              "      <td>13.888889</td>\n",
              "    </tr>\n",
              "    <tr>\n",
              "      <th>13</th>\n",
              "      <td>Male</td>\n",
              "      <td>149.91416</td>\n",
              "      <td>15.873016</td>\n",
              "    </tr>\n",
              "    <tr>\n",
              "      <th>14</th>\n",
              "      <td>Female</td>\n",
              "      <td>123.45872</td>\n",
              "      <td>15.476190</td>\n",
              "    </tr>\n",
              "    <tr>\n",
              "      <th>15</th>\n",
              "      <td>Female</td>\n",
              "      <td>125.66334</td>\n",
              "      <td>15.079365</td>\n",
              "    </tr>\n",
              "    <tr>\n",
              "      <th>16</th>\n",
              "      <td>Female</td>\n",
              "      <td>130.07258</td>\n",
              "      <td>14.285714</td>\n",
              "    </tr>\n",
              "    <tr>\n",
              "      <th>17</th>\n",
              "      <td>Male</td>\n",
              "      <td>167.55112</td>\n",
              "      <td>17.063492</td>\n",
              "    </tr>\n",
              "    <tr>\n",
              "      <th>18</th>\n",
              "      <td>Male</td>\n",
              "      <td>176.36960</td>\n",
              "      <td>18.650794</td>\n",
              "    </tr>\n",
              "    <tr>\n",
              "      <th>19</th>\n",
              "      <td>Female</td>\n",
              "      <td>123.45872</td>\n",
              "      <td>14.285714</td>\n",
              "    </tr>\n",
              "    <tr>\n",
              "      <th>20</th>\n",
              "      <td>Female</td>\n",
              "      <td>99.20790</td>\n",
              "      <td>15.476190</td>\n",
              "    </tr>\n",
              "    <tr>\n",
              "      <th>21</th>\n",
              "      <td>Female</td>\n",
              "      <td>105.82176</td>\n",
              "      <td>13.888889</td>\n",
              "    </tr>\n",
              "    <tr>\n",
              "      <th>22</th>\n",
              "      <td>Male</td>\n",
              "      <td>123.45872</td>\n",
              "      <td>17.857143</td>\n",
              "    </tr>\n",
              "    <tr>\n",
              "      <th>23</th>\n",
              "      <td>Male</td>\n",
              "      <td>152.11878</td>\n",
              "      <td>17.063492</td>\n",
              "    </tr>\n",
              "    <tr>\n",
              "      <th>24</th>\n",
              "      <td>Female</td>\n",
              "      <td>132.27720</td>\n",
              "      <td>15.873016</td>\n",
              "    </tr>\n",
              "    <tr>\n",
              "      <th>25</th>\n",
              "      <td>Male</td>\n",
              "      <td>154.32340</td>\n",
              "      <td>18.650794</td>\n",
              "    </tr>\n",
              "    <tr>\n",
              "      <th>26</th>\n",
              "      <td>Male</td>\n",
              "      <td>176.36960</td>\n",
              "      <td>18.253968</td>\n",
              "    </tr>\n",
              "    <tr>\n",
              "      <th>27</th>\n",
              "      <td>Female</td>\n",
              "      <td>94.79866</td>\n",
              "      <td>13.095238</td>\n",
              "    </tr>\n",
              "    <tr>\n",
              "      <th>28</th>\n",
              "      <td>Male</td>\n",
              "      <td>110.23100</td>\n",
              "      <td>15.873016</td>\n",
              "    </tr>\n",
              "  </tbody>\n",
              "</table>\n",
              "</div>"
            ],
            "text/plain": [
              "    Gender     Weight  Shoe_size\n",
              "0     Male  176.36960  17.460317\n",
              "1     Male  154.32340  17.063492\n",
              "2   Female  132.27720  15.079365\n",
              "3   Female  119.04948  14.682540\n",
              "4     Male  143.30030  15.873016\n",
              "5     Male  198.41580  18.650794\n",
              "6   Female  141.09568  15.476190\n",
              "7   Female  154.32340  15.873016\n",
              "8   Female  121.25410  14.682540\n",
              "9     Male  165.34650  16.666667\n",
              "10    Male  187.39270  17.063492\n",
              "11    Male  154.32340  17.857143\n",
              "12  Female  110.23100  13.888889\n",
              "13    Male  149.91416  15.873016\n",
              "14  Female  123.45872  15.476190\n",
              "15  Female  125.66334  15.079365\n",
              "16  Female  130.07258  14.285714\n",
              "17    Male  167.55112  17.063492\n",
              "18    Male  176.36960  18.650794\n",
              "19  Female  123.45872  14.285714\n",
              "20  Female   99.20790  15.476190\n",
              "21  Female  105.82176  13.888889\n",
              "22    Male  123.45872  17.857143\n",
              "23    Male  152.11878  17.063492\n",
              "24  Female  132.27720  15.873016\n",
              "25    Male  154.32340  18.650794\n",
              "26    Male  176.36960  18.253968\n",
              "27  Female   94.79866  13.095238\n",
              "28    Male  110.23100  15.873016"
            ]
          },
          "metadata": {
            "tags": []
          },
          "execution_count": 21
        }
      ]
    },
    {
      "cell_type": "code",
      "metadata": {
        "id": "Npp54vVwBxpm"
      },
      "source": [
        "\r\n",
        "x=ds.iloc[:,[1,2]].values\r\n",
        "y=ds.iloc[:,[0]].values"
      ],
      "execution_count": null,
      "outputs": []
    },
    {
      "cell_type": "code",
      "metadata": {
        "id": "KGF1fC4YCCK3"
      },
      "source": [
        "# train_test_split() is used for training and testing the dataset\r\n",
        "x_train,x_test,y_train,y_test=train_test_split(x,y,test_size=0.1,random_state=0)"
      ],
      "execution_count": null,
      "outputs": []
    },
    {
      "cell_type": "code",
      "metadata": {
        "colab": {
          "base_uri": "https://localhost:8080/"
        },
        "id": "gN2H3sGDIMVb",
        "outputId": "b8033880-ab08-4a25-eb5d-6a07bc293f47"
      },
      "source": [
        "classifier=GaussianNB()\r\n",
        "classifier = classifier.fit(x_train,y_train.ravel()) #To achieve better accuracy, fit() adjusts the weight according to the data values\r\n",
        "pred = classifier.predict(x_test)\r\n",
        "accuracy = accuracy_score(y_test, pred) #Gives the accuracy for the result\r\n",
        "print(\"Accuracy :\",accuracy)\r\n",
        "print(\"The person is\",classifier.predict([[176,17]])) #Predicts whether it is male or female based on shoe_size and weight\r\n"
      ],
      "execution_count": null,
      "outputs": [
        {
          "output_type": "stream",
          "text": [
            "Accuracy : 1.0\n",
            "The person is ['Male']\n"
          ],
          "name": "stdout"
        }
      ]
    },
    {
      "cell_type": "markdown",
      "metadata": {
        "id": "hJquRtPeInFO"
      },
      "source": [
        "**So Finally the person is MALE**"
      ]
    }
  ]
}